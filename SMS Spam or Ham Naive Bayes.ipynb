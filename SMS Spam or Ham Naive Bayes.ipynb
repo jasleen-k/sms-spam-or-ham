{
 "cells": [
  {
   "cell_type": "code",
   "execution_count": 28,
   "id": "433f47bd",
   "metadata": {},
   "outputs": [
    {
     "name": "stdout",
     "output_type": "stream",
     "text": [
      "Requirement already satisfied: nltk in /Users/jasleen/opt/anaconda3/lib/python3.9/site-packages (3.7)\r\n",
      "Requirement already satisfied: click in /Users/jasleen/opt/anaconda3/lib/python3.9/site-packages (from nltk) (8.0.4)\r\n",
      "Requirement already satisfied: joblib in /Users/jasleen/opt/anaconda3/lib/python3.9/site-packages (from nltk) (1.1.0)\r\n",
      "Requirement already satisfied: tqdm in /Users/jasleen/opt/anaconda3/lib/python3.9/site-packages (from nltk) (4.64.0)\r\n",
      "Requirement already satisfied: regex>=2021.8.3 in /Users/jasleen/opt/anaconda3/lib/python3.9/site-packages (from nltk) (2022.3.15)\r\n"
     ]
    }
   ],
   "source": [
    "!pip install nltk"
   ]
  },
  {
   "cell_type": "code",
   "execution_count": 129,
   "id": "ae1b10ec",
   "metadata": {},
   "outputs": [
    {
     "name": "stderr",
     "output_type": "stream",
     "text": [
      "[nltk_data] Downloading package punkt to /Users/jasleen/nltk_data...\n",
      "[nltk_data]   Package punkt is already up-to-date!\n",
      "[nltk_data] Downloading package stopwords to\n",
      "[nltk_data]     /Users/jasleen/nltk_data...\n",
      "[nltk_data]   Package stopwords is already up-to-date!\n"
     ]
    },
    {
     "data": {
      "text/plain": [
       "True"
      ]
     },
     "execution_count": 129,
     "metadata": {},
     "output_type": "execute_result"
    }
   ],
   "source": [
    "import numpy as np # used to create numpy arrays\n",
    "import pandas as pd # used to create data frames\n",
    "import matplotlib.pyplot as plt\n",
    "import nltk\n",
    "import string\n",
    "\n",
    "from sklearn.preprocessing import LabelEncoder\n",
    "from sklearn.model_selection import train_test_split\n",
    "from sklearn.feature_extraction.text import TfidfVectorizer\n",
    "from sklearn.feature_extraction.text import CountVectorizer\n",
    "from sklearn.naive_bayes import GaussianNB, MultinomialNB, BernoulliNB\n",
    "from sklearn.linear_model import LogisticRegression\n",
    "from sklearn.metrics import accuracy_score, confusion_matrix, precision_score\n",
    "from nltk.corpus import stopwords\n",
    "from nltk.stem.porter import PorterStemmer\n",
    "\n",
    "nltk.download('punkt')\n",
    "nltk.download('stopwords')"
   ]
  },
  {
   "cell_type": "markdown",
   "id": "74ce6657",
   "metadata": {},
   "source": [
    "Data Collection and Cleaning"
   ]
  },
  {
   "cell_type": "code",
   "execution_count": 131,
   "id": "8fdcb175",
   "metadata": {},
   "outputs": [],
   "source": [
    "sms_df = pd.read_csv('spam.csv',encoding='latin1')\n",
    "\n",
    "# remove and rename columns\n",
    "sms_df.drop(columns=['Unnamed: 2','Unnamed: 3','Unnamed: 4'],inplace=True)\n",
    "sms_df.rename(columns={'v1':'category', 'v2':'message'},inplace=True)\n",
    "\n",
    "encoder = LabelEncoder()\n",
    "sms_df['category'] = encoder.fit_transform(sms_df['category'])\n",
    "\n",
    "# check for / remove missing or duplicate values\n",
    "sms_df.isnull().sum()\n",
    "sms_df = sms_df.drop_duplicates(keep='first')\n",
    "\n",
    "x = sms_df['message']\n",
    "y = sms_df['category']"
   ]
  },
  {
   "cell_type": "markdown",
   "id": "8d6eed36",
   "metadata": {},
   "source": [
    "EDA"
   ]
  },
  {
   "cell_type": "code",
   "execution_count": 132,
   "id": "0d402471",
   "metadata": {},
   "outputs": [],
   "source": [
    "sms_df['num_chars'] = sms_df['message'].apply(len)\n",
    "sms_df['num_words'] = sms_df['message'].apply(lambda x:len(nltk.word_tokenize(x)))\n",
    "sms_df['num_sentences'] = sms_df['message'].apply(lambda x:len(nltk.sent_tokenize(x)))"
   ]
  },
  {
   "cell_type": "markdown",
   "id": "13498446",
   "metadata": {},
   "source": [
    "Data Pre-Processing"
   ]
  },
  {
   "cell_type": "code",
   "execution_count": 133,
   "id": "f9b1fa3f",
   "metadata": {},
   "outputs": [],
   "source": [
    "def transform_text(text):\n",
    "    ps = PorterStemmer()\n",
    "    text = text.lower()\n",
    "    text = nltk.word_tokenize(text)\n",
    "    \n",
    "    y = []\n",
    "    for word in text:\n",
    "        if word.isalnum():\n",
    "            y.append(word)\n",
    "    \n",
    "    text = y[:]\n",
    "    y.clear()\n",
    "    \n",
    "    for word in text:\n",
    "        if word not in stopwords.words('english') and word not in string.punctuation:\n",
    "            y.append(word)\n",
    "            \n",
    "    text = y[:]\n",
    "    y.clear()\n",
    "    \n",
    "    for word in text:\n",
    "        y.append(ps.stem(word))\n",
    "    \n",
    "    return \" \".join(y)"
   ]
  },
  {
   "cell_type": "code",
   "execution_count": 135,
   "id": "274a832f",
   "metadata": {},
   "outputs": [],
   "source": [
    "sms_df['transformed_text'] = sms_df['message'].apply(transform_text)"
   ]
  },
  {
   "cell_type": "markdown",
   "id": "f182d21c",
   "metadata": {},
   "source": [
    "Model Building"
   ]
  },
  {
   "cell_type": "code",
   "execution_count": 149,
   "id": "38c59c80",
   "metadata": {},
   "outputs": [
    {
     "name": "stdout",
     "output_type": "stream",
     "text": [
      "[0 0 1 ... 0 0 0]\n"
     ]
    }
   ],
   "source": [
    "cv = CountVectorizer()\n",
    "tfidf = TfidfVectorizer()\n",
    "x = tfidf.fit_transform(sms_df['message']).toarray()\n",
    "y = sms_df['category'].values\n",
    "\n",
    "x_train, x_test, y_train, y_test = train_test_split(x, y, test_size=0.2, random_state=2)"
   ]
  },
  {
   "cell_type": "code",
   "execution_count": 150,
   "id": "150ae169",
   "metadata": {},
   "outputs": [],
   "source": [
    "gnb = GaussianNB()\n",
    "mnb = MultinomialNB()\n",
    "bnb = BernoulliNB()"
   ]
  },
  {
   "cell_type": "code",
   "execution_count": 151,
   "id": "0cfae20a",
   "metadata": {},
   "outputs": [
    {
     "name": "stdout",
     "output_type": "stream",
     "text": [
      "0.9110251450676983\n",
      "[[823  73]\n",
      " [ 19 119]]\n",
      "0.6197916666666666\n"
     ]
    }
   ],
   "source": [
    "gnb.fit(x_train,y_train)\n",
    "y_pred1 = gnb.predict(x_test)\n",
    "print(accuracy_score(y_test,y_pred1))\n",
    "print(confusion_matrix(y_test,y_pred1))\n",
    "print(precision_score(y_test,y_pred1))"
   ]
  },
  {
   "cell_type": "code",
   "execution_count": 152,
   "id": "2a9f52de",
   "metadata": {},
   "outputs": [
    {
     "name": "stdout",
     "output_type": "stream",
     "text": [
      "0.9506769825918762\n",
      "[[896   0]\n",
      " [ 51  87]]\n",
      "1.0\n"
     ]
    }
   ],
   "source": [
    "mnb.fit(x_train,y_train)\n",
    "y_pred2 = mnb.predict(x_test)\n",
    "print(accuracy_score(y_test,y_pred2))\n",
    "print(confusion_matrix(y_test,y_pred2))\n",
    "print(precision_score(y_test,y_pred2))"
   ]
  },
  {
   "cell_type": "code",
   "execution_count": 153,
   "id": "322330e2",
   "metadata": {},
   "outputs": [
    {
     "name": "stdout",
     "output_type": "stream",
     "text": [
      "0.9777562862669246\n",
      "[[893   3]\n",
      " [ 20 118]]\n",
      "0.9752066115702479\n"
     ]
    }
   ],
   "source": [
    "bnb.fit(x_train,y_train)\n",
    "y_pred3 = bnb.predict(x_test)\n",
    "print(accuracy_score(y_test,y_pred3))\n",
    "print(confusion_matrix(y_test,y_pred3))\n",
    "print(precision_score(y_test,y_pred3))"
   ]
  },
  {
   "cell_type": "code",
   "execution_count": 154,
   "id": "d1332f9a",
   "metadata": {},
   "outputs": [],
   "source": [
    "# tfidf -> mnb"
   ]
  },
  {
   "cell_type": "code",
   "execution_count": 155,
   "id": "2709b93c",
   "metadata": {},
   "outputs": [],
   "source": [
    "import pickle\n",
    "pickle.dump(tfidf,open('vectorizer.pkl','wb'))\n",
    "pickle.dump(mnb,open('model.pkl','wb'))"
   ]
  },
  {
   "cell_type": "code",
   "execution_count": null,
   "id": "eaa51b91",
   "metadata": {},
   "outputs": [],
   "source": []
  }
 ],
 "metadata": {
  "kernelspec": {
   "display_name": "Python 3 (ipykernel)",
   "language": "python",
   "name": "python3"
  },
  "language_info": {
   "codemirror_mode": {
    "name": "ipython",
    "version": 3
   },
   "file_extension": ".py",
   "mimetype": "text/x-python",
   "name": "python",
   "nbconvert_exporter": "python",
   "pygments_lexer": "ipython3",
   "version": "3.9.12"
  }
 },
 "nbformat": 4,
 "nbformat_minor": 5
}
