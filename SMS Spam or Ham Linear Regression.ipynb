{
 "cells": [
  {
   "cell_type": "code",
   "execution_count": 5,
   "id": "f23bc4b1",
   "metadata": {},
   "outputs": [],
   "source": [
    "import numpy as np # used to create numpy arrays\n",
    "import pandas as pd # used to create data frames\n",
    "from sklearn.preprocessing import LabelEncoder\n",
    "from sklearn.model_selection import train_test_split\n",
    "from sklearn.feature_extraction.text import TfidfVectorizer\n",
    "from sklearn.linear_model import LogisticRegression\n",
    "from sklearn.metrics import accuracy_score"
   ]
  },
  {
   "cell_type": "markdown",
   "id": "86551e54",
   "metadata": {},
   "source": [
    "Data Collection and Pre-Processing"
   ]
  },
  {
   "cell_type": "code",
   "execution_count": 7,
   "id": "7d589c81",
   "metadata": {},
   "outputs": [],
   "source": [
    "raw_sms_df = pd.read_csv('spam.csv',encoding='latin1')\n",
    "sms_df = raw_sms_df.where((pd.notnull(raw_sms_df)),'')\n",
    "sms_df.rename(columns={'v1':'category', 'v2':'message'},inplace=True)\n",
    "\n",
    "# labels: ham = 0, spam = 1\n",
    "encoder = LabelEncoder()\n",
    "sms_df['category'] = encoder.fit_transform(sms_df['category'])\n",
    "\n",
    "x = sms_df['message']\n",
    "y = sms_df['category']"
   ]
  },
  {
   "cell_type": "markdown",
   "id": "03fd139d",
   "metadata": {},
   "source": [
    "Splitting Data Into Training And Testing"
   ]
  },
  {
   "cell_type": "code",
   "execution_count": 8,
   "id": "e5ff3040",
   "metadata": {},
   "outputs": [],
   "source": [
    "x_train, x_test, y_train, y_test = train_test_split(x, y, test_size=0.2, random_state=2)"
   ]
  },
  {
   "cell_type": "markdown",
   "id": "bdbf3d9b",
   "metadata": {},
   "source": [
    "Feature Extraction"
   ]
  },
  {
   "cell_type": "code",
   "execution_count": 9,
   "id": "d57399a0",
   "metadata": {},
   "outputs": [],
   "source": [
    "# convert text data to meaningful numerical values\n",
    "\n",
    "# words with scores lower than 1 will be ignored; stop_words ignores common words (e.g. \"is\")\n",
    "feature_extraction = TfidfVectorizer(min_df = 1, stop_words='english', lowercase='True') \n",
    "\n",
    "x_train_features = feature_extraction.fit_transform(x_train)\n",
    "x_test_features = feature_extraction.transform(x_test)\n",
    "\n",
    "y_train = y_train.astype('int')\n",
    "y_test = y_test.astype('int')"
   ]
  },
  {
   "cell_type": "markdown",
   "id": "b1bef52c",
   "metadata": {},
   "source": [
    "Training the Logistic Regression Model "
   ]
  },
  {
   "cell_type": "code",
   "execution_count": 10,
   "id": "6fd0fa13",
   "metadata": {},
   "outputs": [
    {
     "data": {
      "text/plain": [
       "LogisticRegression()"
      ]
     },
     "execution_count": 10,
     "metadata": {},
     "output_type": "execute_result"
    }
   ],
   "source": [
    "model = LogisticRegression()\n",
    "model.fit(x_train_features, y_train)"
   ]
  },
  {
   "cell_type": "markdown",
   "id": "7bec940f",
   "metadata": {},
   "source": [
    "Evaluating the Trained Model"
   ]
  },
  {
   "cell_type": "code",
   "execution_count": 11,
   "id": "5fe36171",
   "metadata": {},
   "outputs": [],
   "source": [
    "# prediction on training data\n",
    "prediction_on_training_data = model.predict(x_train_features)\n",
    "accuracy_on_training_data = accuracy_score(y_train, prediction_on_training_data)\n",
    "\n",
    "# prediction on testing data\n",
    "prediction_on_testing_data = model.predict(x_test_features)\n",
    "accuracy_on_testing_data = accuracy_score(y_test, prediction_on_testing_data)"
   ]
  },
  {
   "cell_type": "code",
   "execution_count": 12,
   "id": "7f6010d7",
   "metadata": {},
   "outputs": [
    {
     "name": "stdout",
     "output_type": "stream",
     "text": [
      "0.971729863136639\n",
      "0.9560538116591928\n"
     ]
    }
   ],
   "source": [
    "print(accuracy_on_training_data)\n",
    "print(accuracy_on_testing_data)"
   ]
  },
  {
   "cell_type": "markdown",
   "id": "4dc75aac",
   "metadata": {},
   "source": [
    "Building Input System"
   ]
  },
  {
   "cell_type": "code",
   "execution_count": 14,
   "id": "0dfca7e6",
   "metadata": {},
   "outputs": [
    {
     "name": "stdout",
     "output_type": "stream",
     "text": [
      "SPAM MAIL\n"
     ]
    }
   ],
   "source": [
    "input = [\"Free entry in 2 a wkly comp to win FA Cup final tkts 21st May 2005. Text FA to 87121 to receive entry question(std txt rate)T&C's apply 08452810075over18's\"]\n",
    "\n",
    "# convert input text into feature vectors\n",
    "input_data_features = feature_extraction.transform(input)\n",
    "\n",
    "# making prediction\n",
    "prediction = model.predict(input_data_features)\n",
    "\n",
    "if prediction[0] == 0:\n",
    "    print('Ham mail')\n",
    "else: \n",
    "    print(\"SPAM MAIL\")"
   ]
  },
  {
   "cell_type": "code",
   "execution_count": null,
   "id": "c7529c9f",
   "metadata": {},
   "outputs": [],
   "source": []
  }
 ],
 "metadata": {
  "kernelspec": {
   "display_name": "Python 3 (ipykernel)",
   "language": "python",
   "name": "python3"
  },
  "language_info": {
   "codemirror_mode": {
    "name": "ipython",
    "version": 3
   },
   "file_extension": ".py",
   "mimetype": "text/x-python",
   "name": "python",
   "nbconvert_exporter": "python",
   "pygments_lexer": "ipython3",
   "version": "3.9.12"
  }
 },
 "nbformat": 4,
 "nbformat_minor": 5
}
